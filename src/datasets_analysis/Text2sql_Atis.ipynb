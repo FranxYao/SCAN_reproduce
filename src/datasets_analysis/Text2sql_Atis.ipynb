{
 "cells": [
  {
   "cell_type": "markdown",
   "id": "subjective-palestine",
   "metadata": {},
   "source": [
    "# Atis dataset, sql format, query based split, data analysis\n",
    "\n",
    "Yao Fu. University of Edinburgh<br>\n",
    "yao.fu@ed.ac.uk<br>\n",
    "Apr 15th 2021"
   ]
  },
  {
   "cell_type": "code",
   "execution_count": 4,
   "id": "numerous-istanbul",
   "metadata": {},
   "outputs": [],
   "source": [
    "import json\n",
    "import sys\n",
    "\n",
    "sys.path.append('..')\n",
    "\n",
    "import pandas as pd\n",
    "import numpy as np \n",
    "import matplotlib.pyplot as plt\n",
    "import seaborn as sns\n",
    "\n",
    "from data_utils.text2sql_utils import print_sql_as_tree, sql_width_depth, simplify_sql\n",
    "from tqdm import tqdm\n",
    "from pprint import pprint\n",
    "from collections import Counter, defaultdict"
   ]
  },
  {
   "cell_type": "code",
   "execution_count": 5,
   "id": "sorted-variance",
   "metadata": {},
   "outputs": [],
   "source": [
    "%load_ext autoreload\n",
    "%autoreload 2"
   ]
  },
  {
   "cell_type": "code",
   "execution_count": 6,
   "id": "developing-charger",
   "metadata": {},
   "outputs": [],
   "source": [
    "data_path = '/Users/yaofu/Projects/semantic_parsing_datasets/text2sql-data/data'"
   ]
  },
  {
   "cell_type": "markdown",
   "id": "above-workstation",
   "metadata": {},
   "source": [
    "## Function definition"
   ]
  },
  {
   "cell_type": "code",
   "execution_count": 8,
   "id": "enabling-object",
   "metadata": {},
   "outputs": [],
   "source": [
    "data = json.load(open(data_path + '/atis.json'))"
   ]
  },
  {
   "cell_type": "code",
   "execution_count": 9,
   "id": "drawn-savage",
   "metadata": {},
   "outputs": [],
   "source": [
    "def test_contain_all_var(sent, varibles):\n",
    "    all_in = True\n",
    "    for v in varibles:\n",
    "        if(v not in sent): all_in = False\n",
    "    return all_in\n",
    "\n",
    "def test_contain_all_var_w_sql(sent, sql, varibles):\n",
    "    all_in = True\n",
    "    for v in varibles:\n",
    "        if(v not in sent): all_in = False\n",
    "        if(v not in sql): all_in = False\n",
    "    return all_in\n",
    "\n",
    "## Caveat: change MIN MAX. Process this part\n",
    "def preprocess(sql_data):\n",
    "    sql_data_ = []\n",
    "    for s in sql_data:\n",
    "        if('MIN' in s or 'MAX' in s or 'COUNT' in s): \n",
    "            s_ = s.replace('MIN(', 'MIN (').replace('MAX(', 'MAX (')\\\n",
    "                .replace('COUNT(', 'COUNT (').replace('IS NOT NULL', 'IS-NOT-NULL')\n",
    "            sql_data_.append(s_)\n",
    "        else:\n",
    "            sql_data_.append(s)\n",
    "    return sql_data_"
   ]
  },
  {
   "cell_type": "code",
   "execution_count": 27,
   "id": "surrounded-prime",
   "metadata": {},
   "outputs": [
    {
     "name": "stdout",
     "output_type": "stream",
     "text": [
      "828 37 82\n",
      "828 37 82\n"
     ]
    }
   ],
   "source": [
    "train_questions = [] \n",
    "dev_questions = []\n",
    "test_questions = []\n",
    "for d in data:\n",
    "    sql = d['sql'][0]\n",
    "    q = []\n",
    "    for qi in d['sentences']:\n",
    "        if(test_contain_all_var_w_sql(qi['text'], sql, qi['variables'])):\n",
    "            q.append(qi['text'])\n",
    "    if(d['query-split'] == 'train'): train_questions.append(q)\n",
    "    elif(d['query-split'] == 'dev'): dev_questions.append(q)\n",
    "    else: test_questions.append(q)\n",
    "\n",
    "train_sql = preprocess([d['sql'][0] for d in data if d['query-split'] == 'train'])\n",
    "dev_sql = preprocess([d['sql'][0] for d in data if d['query-split'] == 'dev'])\n",
    "test_sql = preprocess([d['sql'][0] for d in data if d['query-split'] == 'test'])\n",
    "\n",
    "print(len(train_questions), len(dev_questions), len(test_questions))\n",
    "print(len(train_sql), len(dev_sql), len(test_sql))"
   ]
  },
  {
   "cell_type": "code",
   "execution_count": 26,
   "id": "latter-prototype",
   "metadata": {},
   "outputs": [
    {
     "data": {
      "text/plain": [
       "['list all the flights that arrive at airport_code0 from various cities',\n",
       " 'what flights from any city land at airport_code0',\n",
       " 'show me the flights into airport_code0',\n",
       " 'show me the flights arriving at airport_code0',\n",
       " 'list all the flights that arrive at airport_code0',\n",
       " 'list all the arriving flights at airport_code0',\n",
       " 'what flights land at airport_code0',\n",
       " 'show me the flights to airport_code0',\n",
       " 'list all the landings at airport_code0',\n",
       " 'show me the flights into airport_code0',\n",
       " 'list all the landings at airport_code0',\n",
       " 'list all flights arriving at airport_code0',\n",
       " 'show me the flights arriving at airport_code0',\n",
       " 'list all the flights that fly into airport_code0',\n",
       " 'list all the flights that arrive at airport_code0 airport',\n",
       " 'show me all flights arriving at airport_code0 from other airports',\n",
       " 'show me the flights from all airports to airport_code0',\n",
       " 'show me the flights arriving at airport_code0 from all other airports',\n",
       " 'show me flights from all airports to airport_code0',\n",
       " 'show me the flights arriving at airport_code0 from other airports',\n",
       " 'show me the flights to airport_code0 from all other airports']"
      ]
     },
     "execution_count": 26,
     "metadata": {},
     "output_type": "execute_result"
    }
   ],
   "source": [
    "train_questions[0]"
   ]
  },
  {
   "cell_type": "code",
   "execution_count": 25,
   "id": "written-blues",
   "metadata": {},
   "outputs": [
    {
     "data": {
      "text/plain": [
       "'SELECT DISTINCT FLIGHTalias0.FLIGHT_ID FROM AIRPORT AS AIRPORTalias0 , AIRPORT_SERVICE AS AIRPORT_SERVICEalias0 , CITY AS CITYalias0 , FLIGHT AS FLIGHTalias0 WHERE AIRPORTalias0.AIRPORT_CODE = \"airport_code0\" AND CITYalias0.CITY_CODE = AIRPORT_SERVICEalias0.CITY_CODE AND FLIGHTalias0.FROM_AIRPORT = AIRPORT_SERVICEalias0.AIRPORT_CODE AND FLIGHTalias0.TO_AIRPORT = AIRPORTalias0.AIRPORT_CODE ;'"
      ]
     },
     "execution_count": 25,
     "metadata": {},
     "output_type": "execute_result"
    }
   ],
   "source": [
    "train_sql[0]"
   ]
  },
  {
   "cell_type": "markdown",
   "id": "liberal-willow",
   "metadata": {},
   "source": [
    "## Eyeball data\n",
    "\n",
    "Amoung all keys, the most important keys are `sentences`, `sql`, and `variables`"
   ]
  },
  {
   "cell_type": "code",
   "execution_count": 14,
   "id": "diagnostic-korea",
   "metadata": {},
   "outputs": [
    {
     "data": {
      "text/plain": [
       "dict_keys(['comments', 'old-name', 'query-split', 'sentences', 'sql', 'variables'])"
      ]
     },
     "execution_count": 14,
     "metadata": {},
     "output_type": "execute_result"
    }
   ],
   "source": [
    "data[0].keys()"
   ]
  },
  {
   "cell_type": "code",
   "execution_count": 15,
   "id": "corporate-hardware",
   "metadata": {},
   "outputs": [
    {
     "data": {
      "text/plain": [
       "{'text': 'list all the flights that arrive at airport_code0 from various cities',\n",
       " 'question-split': 'train',\n",
       " 'variables': {'airport_code0': 'MKE'}}"
      ]
     },
     "execution_count": 15,
     "metadata": {},
     "output_type": "execute_result"
    }
   ],
   "source": [
    "data[0]['sentences'][0]"
   ]
  },
  {
   "cell_type": "code",
   "execution_count": 16,
   "id": "unusual-spring",
   "metadata": {},
   "outputs": [
    {
     "data": {
      "text/plain": [
       "7"
      ]
     },
     "execution_count": 16,
     "metadata": {},
     "output_type": "execute_result"
    }
   ],
   "source": [
    "len(data[1]['sql'])"
   ]
  },
  {
   "cell_type": "code",
   "execution_count": 9,
   "id": "middle-portable",
   "metadata": {},
   "outputs": [
    {
     "data": {
      "text/plain": [
       "'SELECT DISTINCT FLIGHTalias0.FLIGHT_ID FROM AIRPORT_SERVICE AS AIRPORT_SERVICEalias0 , AIRPORT_SERVICE AS AIRPORT_SERVICEalias1 , CITY AS CITYalias0 , CITY AS CITYalias1 , DATE_DAY AS DATE_DAYalias0 , DAYS AS DAYSalias0 , FLIGHT AS FLIGHTalias0 WHERE ( CITYalias1.CITY_CODE = AIRPORT_SERVICEalias1.CITY_CODE AND CITYalias1.CITY_NAME = \"city_name0\" AND DATE_DAYalias0.DAY_NUMBER = day_number0 AND DATE_DAYalias0.MONTH_NUMBER = month_number0 AND DATE_DAYalias0.YEAR = year0 AND DAYSalias0.DAY_NAME = DATE_DAYalias0.DAY_NAME AND FLIGHTalias0.FLIGHT_DAYS = DAYSalias0.DAYS_CODE AND FLIGHTalias0.TO_AIRPORT = AIRPORT_SERVICEalias1.AIRPORT_CODE ) AND CITYalias0.CITY_CODE = AIRPORT_SERVICEalias0.CITY_CODE AND CITYalias0.CITY_NAME = \"city_name1\" AND FLIGHTalias0.FROM_AIRPORT = AIRPORT_SERVICEalias0.AIRPORT_CODE ;'"
      ]
     },
     "execution_count": 9,
     "metadata": {},
     "output_type": "execute_result"
    }
   ],
   "source": [
    "data[1]['sql'][0]"
   ]
  },
  {
   "cell_type": "code",
   "execution_count": 15,
   "id": "parallel-check",
   "metadata": {},
   "outputs": [
    {
     "data": {
      "text/plain": [
       "{'text': 'give me the flights leaving city_name1 month_number0 day_number0 coming back to city_name0',\n",
       " 'question-split': 'train',\n",
       " 'variables': {'city_name0': 'BOSTON',\n",
       "  'day_number0': '9',\n",
       "  'month_number0': '8',\n",
       "  'year0': '1991',\n",
       "  'city_name1': 'DENVER'}}"
      ]
     },
     "execution_count": 15,
     "metadata": {},
     "output_type": "execute_result"
    }
   ],
   "source": [
    "data[1]['sentences'][0]"
   ]
  },
  {
   "cell_type": "code",
   "execution_count": 16,
   "id": "brown-exception",
   "metadata": {},
   "outputs": [
    {
     "data": {
      "text/plain": [
       "{'text': 'what flights from city_name1 to city_name0 on saturday',\n",
       " 'question-split': 'train',\n",
       " 'variables': {'city_name0': 'ORLANDO',\n",
       "  'day_number0': '26',\n",
       "  'month_number0': '7',\n",
       "  'year0': '1991',\n",
       "  'city_name1': 'TACOMA'}}"
      ]
     },
     "execution_count": 16,
     "metadata": {},
     "output_type": "execute_result"
    }
   ],
   "source": [
    "data[1]['sentences'][1]"
   ]
  },
  {
   "cell_type": "code",
   "execution_count": 17,
   "id": "fantastic-month",
   "metadata": {},
   "outputs": [
    {
     "data": {
      "text/plain": [
       "{'text': 'city_name1 to city_name0 saturday',\n",
       " 'question-split': 'train',\n",
       " 'variables': {'city_name0': 'BOSTON',\n",
       "  'day_number0': '26',\n",
       "  'month_number0': '7',\n",
       "  'year0': '1991',\n",
       "  'city_name1': 'PITTSBURGH'}}"
      ]
     },
     "execution_count": 17,
     "metadata": {},
     "output_type": "execute_result"
    }
   ],
   "source": [
    "data[1]['sentences'][2]"
   ]
  },
  {
   "cell_type": "code",
   "execution_count": 77,
   "id": "decreased-symposium",
   "metadata": {},
   "outputs": [
    {
     "data": {
      "text/plain": [
       "'SELECT DISTINCT FLIGHTalias0.FLIGHT_ID FROM AIRPORT_SERVICE AS AIRPORT_SERVICEalias0 , AIRPORT_SERVICE AS AIRPORT_SERVICEalias1 , AIRPORT_SERVICE AS AIRPORT_SERVICEalias2 , CITY AS CITYalias0 , CITY AS CITYalias1 , CITY AS CITYalias2 , DATE_DAY AS DATE_DAYalias0 , DAYS AS DAYSalias0 , FLIGHT AS FLIGHTalias0 WHERE ( ( CITYalias0.CITY_CODE = AIRPORT_SERVICEalias0.CITY_CODE AND CITYalias0.CITY_NAME = \"city_name1\" AND FLIGHTalias0.FROM_AIRPORT = AIRPORT_SERVICEalias0.AIRPORT_CODE ) AND CITYalias2.CITY_CODE = AIRPORT_SERVICEalias2.CITY_CODE AND CITYalias2.CITY_NAME = \"city_name0\" AND FLIGHTalias0.TO_AIRPORT = AIRPORT_SERVICEalias2.AIRPORT_CODE ) AND DATE_DAYalias0.DAY_NUMBER = day_number0 AND DATE_DAYalias0.MONTH_NUMBER = month_number0 AND DATE_DAYalias0.YEAR = year0 AND DAYSalias0.DAY_NAME = DATE_DAYalias0.DAY_NAME AND FLIGHTalias0.FLIGHT_DAYS = DAYSalias0.DAYS_CODE ;'"
      ]
     },
     "execution_count": 77,
     "metadata": {},
     "output_type": "execute_result"
    }
   ],
   "source": [
    "data[1]['sql'][1]"
   ]
  },
  {
   "cell_type": "code",
   "execution_count": 78,
   "id": "ruled-terminal",
   "metadata": {},
   "outputs": [
    {
     "data": {
      "text/plain": [
       "[{'example': 'BOSTON',\n",
       "  'location': 'unk',\n",
       "  'name': 'city_name0',\n",
       "  'type': 'city_name'},\n",
       " {'example': '9',\n",
       "  'location': 'unk',\n",
       "  'name': 'day_number0',\n",
       "  'type': 'day_number'},\n",
       " {'example': '8',\n",
       "  'location': 'unk',\n",
       "  'name': 'month_number0',\n",
       "  'type': 'month_number'},\n",
       " {'example': '1991', 'location': 'unk', 'name': 'year0', 'type': 'year'},\n",
       " {'example': 'DENVER',\n",
       "  'location': 'unk',\n",
       "  'name': 'city_name1',\n",
       "  'type': 'city_name'}]"
      ]
     },
     "execution_count": 78,
     "metadata": {},
     "output_type": "execute_result"
    }
   ],
   "source": [
    "data[1]['variables']"
   ]
  },
  {
   "cell_type": "markdown",
   "id": "junior-teens",
   "metadata": {},
   "source": [
    "### Not all sentences contain all variables in the SQL, which is a problem of Atis along its history"
   ]
  },
  {
   "cell_type": "code",
   "execution_count": 14,
   "id": "marked-niger",
   "metadata": {},
   "outputs": [
    {
     "name": "stdout",
     "output_type": "stream",
     "text": [
      "what are the flights from city_name1 to city_name0 on month_number0 day_number0 year0\n",
      "from city_name1 to city_name0 on monday month_number0 day_number0 year0\n",
      "what flights are available from city_name1 to city_name0 on month_number0 day_number0 year0\n",
      "show all flights from city_name1 to city_name0 on month_number0 day_number0 year0\n",
      "flight information on month_number0 day_number0 year0 from city_name1 to city_name0\n",
      "what are the flights on month_number0 day_number0 year0 from city_name1 to city_name0\n",
      "what are the flights from city_name1 to city_name0 on month_number0 day_number0 year0\n",
      "what flights are available from city_name1 to city_name0 on month_number0 day_number0 year0\n",
      "show me a list of flights from city_name1 to city_name0 for month_number0 day_number0 year0\n",
      "can you tell me the flights on month_number0 day_number0 year0 from city_name1 to city_name0\n",
      "please list all flights from city_name1 to city_name0 on month_number0 day_number0 year0\n",
      "show me all the flights from city_name1 to city_name0 for month_number0 day_number0 year0\n",
      "what are the flights on month_number0 day_number0 year0 from city_name1 to city_name0\n"
     ]
    }
   ],
   "source": [
    "all_ins = 0\n",
    "for s in data[1]['sentences']:\n",
    "    t = s['text']\n",
    "    all_in = True\n",
    "    for v in s['variables']:\n",
    "        if(v not in t): all_in = False\n",
    "    if(all_in):\n",
    "        print(t)\n",
    "        all_ins += 1"
   ]
  },
  {
   "cell_type": "code",
   "execution_count": 15,
   "id": "unavailable-compound",
   "metadata": {},
   "outputs": [
    {
     "name": "stdout",
     "output_type": "stream",
     "text": [
      "376 13\n"
     ]
    }
   ],
   "source": [
    "print(len(data[1]['sentences']), all_ins)"
   ]
  },
  {
   "cell_type": "markdown",
   "id": "piano-constitutional",
   "metadata": {},
   "source": [
    "**The above shows that not all sentences contain all the variables in the parse**"
   ]
  },
  {
   "cell_type": "markdown",
   "id": "coordinated-minute",
   "metadata": {},
   "source": [
    "###  How many sentences contain all their variables?"
   ]
  },
  {
   "cell_type": "code",
   "execution_count": 17,
   "id": "spare-foster",
   "metadata": {},
   "outputs": [
    {
     "name": "stdout",
     "output_type": "stream",
     "text": [
      "if all var in sent: 3316 1964 1.6883910386965377\n",
      "if all var in sent and sql: 2972 1840 325 143 273\n"
     ]
    }
   ],
   "source": [
    "all_contain = 0\n",
    "not_all_contain = 0\n",
    "for d in data:\n",
    "    for s in d['sentences']:\n",
    "        all_in = test_contain_all_var(s['text'], s['variables'])\n",
    "        if(all_in): all_contain += 1\n",
    "        else: not_all_contain += 1\n",
    "print('if all var in sent:', all_contain, not_all_contain, float(all_contain) / not_all_contain)\n",
    "\n",
    "train_all_contain = 0\n",
    "train_not_all_contain = 0\n",
    "test_all_contain = 0\n",
    "test_not_all_contain = 0\n",
    "test_airport = 0\n",
    "for d in data:\n",
    "    for s in d['sentences']:\n",
    "        all_in = test_contain_all_var_w_sql(s['text'], d['sql'][0], s['variables'])\n",
    "        if(all_in): \n",
    "            if(d['query-split'] == 'train'):\n",
    "                train_all_contain += 1\n",
    "            else: \n",
    "                test_all_contain += 1\n",
    "                if('AIRPORT'in d['sql'][0]):\n",
    "                    test_airport += 1\n",
    "        else: \n",
    "            if(d['query-split'] == 'train'):\n",
    "                train_not_all_contain += 1\n",
    "            else:\n",
    "                test_not_all_contain += 1\n",
    "print('if all var in sent and sql:', \n",
    "      train_all_contain, train_not_all_contain, test_all_contain, test_not_all_contain, test_airport)"
   ]
  },
  {
   "cell_type": "code",
   "execution_count": 18,
   "id": "convenient-karma",
   "metadata": {},
   "outputs": [
    {
     "name": "stdout",
     "output_type": "stream",
     "text": [
      "SELECT DISTINCT\n",
      "..FLIGHTalias0.FLIGHT_ID\n",
      "FROM\n",
      "..AIRPORT_SERVICE AS AIRPORT_SERVICEalias0\n",
      "..AIRPORT_SERVICE AS AIRPORT_SERVICEalias1\n",
      "..CITY AS CITYalias0\n",
      "..CITY AS CITYalias1\n",
      "..DATE_DAY AS DATE_DAYalias0\n",
      "..DAYS AS DAYSalias0\n",
      "..FLIGHT AS FLIGHTalias0\n",
      "WHERE\n",
      "..(\n",
      "....CITYalias1.CITY_CODE = AIRPORT_SERVICEalias1.CITY_CODE\n",
      "....AND\n",
      "....CITYalias1.CITY_NAME = \"city_name0\"\n",
      "....AND\n",
      "....DATE_DAYalias0.DAY_NUMBER = day_number0\n",
      "....AND\n",
      "....DATE_DAYalias0.MONTH_NUMBER = month_number0\n",
      "....AND\n",
      "....DATE_DAYalias0.YEAR = year0\n",
      "....AND\n",
      "....DAYSalias0.DAY_NAME = DATE_DAYalias0.DAY_NAME\n",
      "....AND\n",
      "....FLIGHTalias0.FLIGHT_DAYS = DAYSalias0.DAYS_CODE\n",
      "....AND\n",
      "....FLIGHTalias0.TO_AIRPORT = AIRPORT_SERVICEalias1.AIRPORT_CODE\n",
      "..)\n",
      "..AND\n",
      "..CITYalias0.CITY_CODE = AIRPORT_SERVICEalias0.CITY_CODE\n",
      "..AND\n",
      "..CITYalias0.CITY_NAME = \"city_name1\"\n",
      "..AND\n",
      "..FLIGHTalias0.FROM_AIRPORT = AIRPORT_SERVICEalias0.AIRPORT_CODE\n"
     ]
    }
   ],
   "source": [
    "print_sql_as_tree(data[1]['sql'][0])"
   ]
  },
  {
   "cell_type": "code",
   "execution_count": 7,
   "id": "latin-geography",
   "metadata": {},
   "outputs": [
    {
     "name": "stdout",
     "output_type": "stream",
     "text": [
      "SELECT DISTINCT\n",
      "..FLIGHTalias0.FLIGHT_ID\n",
      "FROM\n",
      "..AIRPORT_SERVICE AS AIRPORT_SERVICEalias0\n",
      "..AIRPORT_SERVICE AS AIRPORT_SERVICEalias1\n",
      "..AIRPORT_SERVICE AS AIRPORT_SERVICEalias2\n",
      "..CITY AS CITYalias0\n",
      "..CITY AS CITYalias1\n",
      "..CITY AS CITYalias2\n",
      "..DATE_DAY AS DATE_DAYalias0\n",
      "..DAYS AS DAYSalias0\n",
      "..FLIGHT AS FLIGHTalias0\n",
      "WHERE\n",
      "..(\n",
      "....(\n",
      "......CITYalias0.CITY_CODE = AIRPORT_SERVICEalias0.CITY_CODE\n",
      "......AND\n",
      "......CITYalias0.CITY_NAME = \"city_name1\"\n",
      "......AND\n",
      "......FLIGHTalias0.FROM_AIRPORT = AIRPORT_SERVICEalias0.AIRPORT_CODE\n",
      "....)\n",
      "....AND\n",
      "....CITYalias2.CITY_CODE = AIRPORT_SERVICEalias2.CITY_CODE\n",
      "....AND\n",
      "....CITYalias2.CITY_NAME = \"city_name0\"\n",
      "....AND\n",
      "....FLIGHTalias0.TO_AIRPORT = AIRPORT_SERVICEalias2.AIRPORT_CODE\n",
      "..)\n",
      "..AND\n",
      "..DATE_DAYalias0.DAY_NUMBER = day_number0\n",
      "..AND\n",
      "..DATE_DAYalias0.MONTH_NUMBER = month_number0\n",
      "..AND\n",
      "..DATE_DAYalias0.YEAR = year0\n",
      "..AND\n",
      "..DAYSalias0.DAY_NAME = DATE_DAYalias0.DAY_NAME\n",
      "..AND\n",
      "..FLIGHTalias0.FLIGHT_DAYS = DAYSalias0.DAYS_CODE\n"
     ]
    }
   ],
   "source": [
    "print_sql_as_tree(data[1]['sql'][1])"
   ]
  },
  {
   "cell_type": "markdown",
   "id": "realistic-frederick",
   "metadata": {},
   "source": [
    "## Output cases according to width and depth\n",
    "\n",
    "and see the output files for an understanding\n",
    "\n",
    "Depth and width is determined by number of nested select statements or statements at the same level"
   ]
  },
  {
   "cell_type": "code",
   "execution_count": 19,
   "id": "proprietary-lending",
   "metadata": {},
   "outputs": [],
   "source": [
    "def write_data_depth_width(data, questions, setname):\n",
    "    depth, width = [], []\n",
    "    \n",
    "    for sql in data:\n",
    "        d, w = sql_width_depth(sql)\n",
    "        depth.append(d)\n",
    "        width.append(w)\n",
    "    max_d = max(depth)\n",
    "    max_w = max(width)\n",
    "    \n",
    "    fds_depth = [open('../../local/data_analysis_outputs/atis_outputs_sql/%s_depth_%d.txt' % (setname, (i + 1)), 'w') for i in range(max_d)]\n",
    "    fds_width = [open('../../local/data_analysis_outputs/atis_outputs_sql/%s_width_%d.txt' % (setname, (i + 1)), 'w') for i in range(max_w)]\n",
    "    depth, width = [], []\n",
    "    for sql, q in zip(data, questions):\n",
    "        d, w = sql_width_depth(sql)\n",
    "        \n",
    "        for qi in q:\n",
    "            fds_depth[d - 1].write(qi + '\\n')\n",
    "        print_sql_as_tree(sql, fds_depth[d - 1])\n",
    "        fds_depth[d - 1].write('----------------\\n')\n",
    "        depth.append(d)\n",
    "\n",
    "        for qi in q:\n",
    "            fds_width[w - 1].write(qi + '\\n')\n",
    "        print_sql_as_tree(sql, fds_width[w - 1])\n",
    "        fds_width[w - 1].write('----------------\\n')\n",
    "        width.append(w)\n",
    "    depth = Counter(depth)\n",
    "    width = Counter(width)\n",
    "    return depth, width"
   ]
  },
  {
   "cell_type": "code",
   "execution_count": 20,
   "id": "productive-energy",
   "metadata": {},
   "outputs": [
    {
     "name": "stdout",
     "output_type": "stream",
     "text": [
      "Counter({1: 629, 2: 147, 3: 23, 4: 15, 5: 7, 6: 5, 8: 2}) Counter({1: 816, 3: 7, 2: 5})\n"
     ]
    }
   ],
   "source": [
    "train_depth, train_width = write_data_depth_width(train_sql, train_questions, 'train')\n",
    "print(train_depth, train_width)"
   ]
  },
  {
   "cell_type": "code",
   "execution_count": 22,
   "id": "infrared-hardwood",
   "metadata": {},
   "outputs": [
    {
     "name": "stdout",
     "output_type": "stream",
     "text": [
      "Counter({1: 31, 2: 3, 3: 3}) Counter({1: 37})\n"
     ]
    }
   ],
   "source": [
    "dev_depth, dev_width = write_data_depth_width(dev_sql, dev_questions, 'dev')\n",
    "print(dev_depth, dev_width)"
   ]
  },
  {
   "cell_type": "code",
   "execution_count": 23,
   "id": "rotary-worse",
   "metadata": {},
   "outputs": [
    {
     "name": "stdout",
     "output_type": "stream",
     "text": [
      "Counter({1: 53, 2: 17, 3: 4, 6: 4, 4: 3, 5: 1}) Counter({1: 77, 2: 4, 3: 1})\n"
     ]
    }
   ],
   "source": [
    "test_depth, test_width = write_data_depth_width(test_sql, test_questions, 'test')\n",
    "print(test_depth, test_width)"
   ]
  },
  {
   "cell_type": "markdown",
   "id": "genetic-discrimination",
   "metadata": {},
   "source": [
    "**From the complexity measure, the test complexity is actually smaller than training**"
   ]
  },
  {
   "cell_type": "markdown",
   "id": "charming-antenna",
   "metadata": {},
   "source": [
    "## How many sentences will a sql correspond to?"
   ]
  },
  {
   "cell_type": "markdown",
   "id": "modular-malawi",
   "metadata": {},
   "source": [
    "On average, an sql correspond to 5.57 sentences. 97% cases contain less than 5.57 + 31.84 sentences"
   ]
  },
  {
   "cell_type": "code",
   "execution_count": 44,
   "id": "suited-patient",
   "metadata": {},
   "outputs": [],
   "source": [
    "num_sent = []\n",
    "for d in data:\n",
    "    num_sent.append(len(d['sentences']))\n",
    "num_sent = np.array(num_sent)"
   ]
  },
  {
   "cell_type": "code",
   "execution_count": 42,
   "id": "fiscal-tackle",
   "metadata": {},
   "outputs": [
    {
     "data": {
      "text/plain": [
       "5.575501583949314"
      ]
     },
     "execution_count": 42,
     "metadata": {},
     "output_type": "execute_result"
    }
   ],
   "source": [
    "np.mean(num_sent)"
   ]
  },
  {
   "cell_type": "code",
   "execution_count": 43,
   "id": "ignored-credit",
   "metadata": {},
   "outputs": [
    {
     "data": {
      "text/plain": [
       "31.84272583549294"
      ]
     },
     "execution_count": 43,
     "metadata": {},
     "output_type": "execute_result"
    }
   ],
   "source": [
    "np.std(num_sent)"
   ]
  },
  {
   "cell_type": "code",
   "execution_count": 50,
   "id": "olive-ranking",
   "metadata": {},
   "outputs": [
    {
     "data": {
      "text/plain": [
       "0.9767687434002112"
      ]
     },
     "execution_count": 50,
     "metadata": {},
     "output_type": "execute_result"
    }
   ],
   "source": [
    "(num_sent < (np.mean(num_sent) + np.std(num_sent))).sum() / len(num_sent)"
   ]
  },
  {
   "cell_type": "markdown",
   "id": "minus-tension",
   "metadata": {},
   "source": [
    "# SQL analysis, get template. Note that the template here is different than the pattern discussed in paper"
   ]
  },
  {
   "cell_type": "code",
   "execution_count": 4,
   "id": "requested-ideal",
   "metadata": {},
   "outputs": [],
   "source": [
    "from utils import insert_variables\n",
    "\n",
    "def get_template(data_sql, data_question, variables):\n",
    "    sql = data_sql\n",
    "    sql_vars = {}\n",
    "    for sql_var in variables:\n",
    "        sql_vars[sql_var['name']] = sql_var['example']\n",
    "    text = data_question['text']\n",
    "    text_vars = data_question['variables']\n",
    "\n",
    "    tokens, tags, template, complete, case = insert_variables(sql, sql_vars, text, text_vars)\n",
    "    return tokens, tags, template, complete, case"
   ]
  },
  {
   "cell_type": "code",
   "execution_count": 98,
   "id": "loving-microwave",
   "metadata": {},
   "outputs": [],
   "source": [
    "data_sql = data[1]['sql'][0]\n",
    "data_question = data[1]['sentences'][0]\n",
    "variables = data[1]['variables']"
   ]
  },
  {
   "cell_type": "code",
   "execution_count": 99,
   "id": "intermediate-congress",
   "metadata": {},
   "outputs": [],
   "source": [
    "tokens, tags, template, complete = get_template(data_sql, data_question, variables)"
   ]
  },
  {
   "cell_type": "code",
   "execution_count": 102,
   "id": "smaller-student",
   "metadata": {},
   "outputs": [
    {
     "name": "stdout",
     "output_type": "stream",
     "text": [
      "SELECT DISTINCT\n",
      "..FLIGHTalias0.FLIGHT_ID\n",
      "FROM\n",
      "..AIRPORT_SERVICE AS AIRPORT_SERVICEalias0\n",
      "..AIRPORT_SERVICE AS AIRPORT_SERVICEalias1\n",
      "..CITY AS CITYalias0\n",
      "..CITY AS CITYalias1\n",
      "..DATE_DAY AS DATE_DAYalias0\n",
      "..DAYS AS DAYSalias0\n",
      "..FLIGHT AS FLIGHTalias0\n",
      "WHERE\n",
      "....(\n",
      "....CITYalias1.CITY_CODE = AIRPORT_SERVICEalias1.CITY_CODE\n",
      "....AND\n",
      "....CITYalias1.CITY_NAME = \"city_name0\"\n",
      "....AND\n",
      "....DATE_DAYalias0.DAY_NUMBER = day_number0\n",
      "....AND\n",
      "....DATE_DAYalias0.MONTH_NUMBER = month_number0\n",
      "....AND\n",
      "....DATE_DAYalias0.YEAR = year0\n",
      "....AND\n",
      "....DAYSalias0.DAY_NAME = DATE_DAYalias0.DAY_NAME\n",
      "....AND\n",
      "....FLIGHTalias0.FLIGHT_DAYS = DAYSalias0.DAYS_CODE\n",
      "....AND\n",
      "....FLIGHTalias0.TO_AIRPORT = AIRPORT_SERVICEalias1.AIRPORT_CODE\n",
      "....)\n",
      "..AND\n",
      "..CITYalias0.CITY_CODE = AIRPORT_SERVICEalias0.CITY_CODE\n",
      "..AND\n",
      "..CITYalias0.CITY_NAME = \"city_name1\"\n",
      "..AND\n",
      "..FLIGHTalias0.FROM_AIRPORT = AIRPORT_SERVICEalias0.AIRPORT_CODE\n"
     ]
    }
   ],
   "source": [
    "print_sql_as_tree(data_sql)"
   ]
  },
  {
   "cell_type": "code",
   "execution_count": 101,
   "id": "remarkable-country",
   "metadata": {},
   "outputs": [
    {
     "name": "stdout",
     "output_type": "stream",
     "text": [
      "SELECT DISTINCT\n",
      "..FLIGHTalias0.FLIGHT_ID\n",
      "FROM\n",
      "..AIRPORT_SERVICE AS AIRPORT_SERVICEalias0\n",
      "..AIRPORT_SERVICE AS AIRPORT_SERVICEalias1\n",
      "..CITY AS CITYalias0\n",
      "..CITY AS CITYalias1\n",
      "..DATE_DAY AS DATE_DAYalias0\n",
      "..DAYS AS DAYSalias0\n",
      "..FLIGHT AS FLIGHTalias0\n",
      "WHERE\n",
      "....(\n",
      "....CITYalias1.CITY_CODE = AIRPORT_SERVICEalias1.CITY_CODE\n",
      "....AND\n",
      "....CITYalias1.CITY_NAME = \" city_name0 \"\n",
      "....AND\n",
      "....DATE_DAYalias0.DAY_NUMBER = day_number0\n",
      "....AND\n",
      "....DATE_DAYalias0.MONTH_NUMBER = month_number0\n",
      "....AND\n",
      "....DATE_DAYalias0.YEAR = 1991\n",
      "....AND\n",
      "....DAYSalias0.DAY_NAME = DATE_DAYalias0.DAY_NAME\n",
      "....AND\n",
      "....FLIGHTalias0.FLIGHT_DAYS = DAYSalias0.DAYS_CODE\n",
      "....AND\n",
      "....FLIGHTalias0.TO_AIRPORT = AIRPORT_SERVICEalias1.AIRPORT_CODE\n",
      "....)\n",
      "..AND\n",
      "..CITYalias0.CITY_CODE = AIRPORT_SERVICEalias0.CITY_CODE\n",
      "..AND\n",
      "..CITYalias0.CITY_NAME = \" city_name1 \"\n",
      "..AND\n",
      "..FLIGHTalias0.FROM_AIRPORT = AIRPORT_SERVICEalias0.AIRPORT_CODE\n"
     ]
    }
   ],
   "source": [
    "print_sql_as_tree(template)"
   ]
  },
  {
   "cell_type": "markdown",
   "id": "animated-contamination",
   "metadata": {},
   "source": [
    "## Check differences between sql and template\n",
    "\n",
    "See outputs in the file, as well as notion"
   ]
  },
  {
   "cell_type": "code",
   "execution_count": 6,
   "id": "positive-judge",
   "metadata": {},
   "outputs": [],
   "source": [
    "templates = []\n",
    "completes = []\n",
    "with open('atis_outputs_sql/template_vs_sql.txt', 'w') as fd:\n",
    "    for d in data:\n",
    "        data_sql = d['sql'][0]\n",
    "        if('MIN' in data_sql or 'MAX' in data_sql or 'COUNT' in data_sql): \n",
    "            data_sql = data_sql.replace('MIN(', 'MIN (').replace('MAX(', 'MAX (').replace('COUNT(', 'COUNT (')\n",
    "        variables = d['variables']\n",
    "        for data_question in d['sentences']:\n",
    "            tokens, tags, template, complete, case = get_template(data_sql, data_question, variables)\n",
    "            if(case == '1' or case == '2'): \n",
    "                print('case %s' % case, file=fd)\n",
    "                print(data_question['text'], file=fd)\n",
    "                print('------', file=fd)\n",
    "                print_sql_as_tree(template, fd)\n",
    "                print('------', file=fd)\n",
    "                print_sql_as_tree(complete, fd)\n",
    "                print('------', file=fd)\n",
    "                print_sql_as_tree(data_sql, fd)\n",
    "                print('------------------------------', file=fd)"
   ]
  },
  {
   "cell_type": "markdown",
   "id": "marine-september",
   "metadata": {},
   "source": [
    "**Conclusion: use `data_sql` in our case**"
   ]
  },
  {
   "cell_type": "markdown",
   "id": "amber-approach",
   "metadata": {},
   "source": [
    "# Simplify the conditions, remove unnecessary nested brackets"
   ]
  },
  {
   "cell_type": "markdown",
   "id": "formed-indie",
   "metadata": {},
   "source": [
    "Note that <span class=\"mark\">we only remove cases without nested SELECT</span> (629 v.s. 828)"
   ]
  },
  {
   "cell_type": "code",
   "execution_count": 11,
   "id": "widespread-coach",
   "metadata": {},
   "outputs": [
    {
     "name": "stdout",
     "output_type": "stream",
     "text": [
      "train_sql: 828\n",
      "level_one_cnt: 629\n",
      "train_sql_simple_and: 529\n",
      "train_sql_simple_and_or: 74\n",
      "train_sql_complex_and_or: 20\n",
      "not_processed: 6\n"
     ]
    }
   ],
   "source": [
    "train_sql_simple_and = []\n",
    "train_sql_simple_and_or = []\n",
    "train_sql_complex_and_or = []\n",
    "not_processed = []\n",
    "level_one_cnt = 0\n",
    "for s in train_sql:\n",
    "    d, w = sql_width_depth(s)\n",
    "    if(d == 1):\n",
    "        level_one_cnt += 1\n",
    "        ret_code, sql_simple, cond_simple = simplify_sql(s)\n",
    "        if(ret_code == 1):\n",
    "            train_sql_simple_and.append((s, sql_simple))\n",
    "        elif(ret_code == 2):\n",
    "            train_sql_simple_and_or.append((s, sql_simple, cond_simple))\n",
    "        elif(ret_code == 3):\n",
    "            train_sql_complex_and_or.append((s, sql_simple, cond_simple))\n",
    "        else: \n",
    "            not_processed.append((s, sql_simple, cond_simple))\n",
    "print('train_sql:', len(train_sql))\n",
    "print('level_one_cnt:', level_one_cnt)\n",
    "print('train_sql_simple_and:', len(train_sql_simple_and))\n",
    "print('train_sql_simple_and_or:', len(train_sql_simple_and_or))\n",
    "print('train_sql_complex_and_or:', len(train_sql_complex_and_or))\n",
    "print('not_processed:', len(not_processed))"
   ]
  },
  {
   "cell_type": "markdown",
   "id": "fancy-cursor",
   "metadata": {},
   "source": [
    "## Simple cases with AND, 529 Cases in total"
   ]
  },
  {
   "cell_type": "markdown",
   "id": "multiple-field",
   "metadata": {},
   "source": [
    "### Before"
   ]
  },
  {
   "cell_type": "code",
   "execution_count": 12,
   "id": "charged-affect",
   "metadata": {},
   "outputs": [
    {
     "name": "stdout",
     "output_type": "stream",
     "text": [
      "SELECT DISTINCT\n",
      "..FLIGHTalias0.FLIGHT_ID\n",
      "FROM\n",
      "..AIRPORT_SERVICE AS AIRPORT_SERVICEalias0\n",
      "..AIRPORT_SERVICE AS AIRPORT_SERVICEalias1\n",
      "..CITY AS CITYalias0\n",
      "..CITY AS CITYalias1\n",
      "..DATE_DAY AS DATE_DAYalias0\n",
      "..DAYS AS DAYSalias0\n",
      "..FLIGHT AS FLIGHTalias0\n",
      "WHERE\n",
      "..(\n",
      "....CITYalias1.CITY_CODE = AIRPORT_SERVICEalias1.CITY_CODE\n",
      "....AND\n",
      "....CITYalias1.CITY_NAME = \"city_name0\"\n",
      "....AND\n",
      "....DATE_DAYalias0.DAY_NUMBER = day_number0\n",
      "....AND\n",
      "....DATE_DAYalias0.MONTH_NUMBER = month_number0\n",
      "....AND\n",
      "....DATE_DAYalias0.YEAR = year0\n",
      "....AND\n",
      "....DAYSalias0.DAY_NAME = DATE_DAYalias0.DAY_NAME\n",
      "....AND\n",
      "....FLIGHTalias0.FLIGHT_DAYS = DAYSalias0.DAYS_CODE\n",
      "....AND\n",
      "....FLIGHTalias0.TO_AIRPORT = AIRPORT_SERVICEalias1.AIRPORT_CODE\n",
      "..)\n",
      "..AND\n",
      "..CITYalias0.CITY_CODE = AIRPORT_SERVICEalias0.CITY_CODE\n",
      "..AND\n",
      "..CITYalias0.CITY_NAME = \"city_name1\"\n",
      "..AND\n",
      "..FLIGHTalias0.FROM_AIRPORT = AIRPORT_SERVICEalias0.AIRPORT_CODE\n"
     ]
    }
   ],
   "source": [
    "print_sql_as_tree(train_sql_simple_and[1][0])"
   ]
  },
  {
   "cell_type": "markdown",
   "id": "fuzzy-sleep",
   "metadata": {},
   "source": [
    "### After"
   ]
  },
  {
   "cell_type": "code",
   "execution_count": 13,
   "id": "established-disorder",
   "metadata": {},
   "outputs": [
    {
     "name": "stdout",
     "output_type": "stream",
     "text": [
      "SELECT DISTINCT\n",
      "..FLIGHTalias0.FLIGHT_ID\n",
      "FROM\n",
      "..AIRPORT_SERVICE AS AIRPORT_SERVICEalias0\n",
      "..AIRPORT_SERVICE AS AIRPORT_SERVICEalias1\n",
      "..CITY AS CITYalias0\n",
      "..CITY AS CITYalias1\n",
      "..DATE_DAY AS DATE_DAYalias0\n",
      "..DAYS AS DAYSalias0\n",
      "..FLIGHT AS FLIGHTalias0\n",
      "WHERE\n",
      "..CITYalias1.CITY_CODE = AIRPORT_SERVICEalias1.CITY_CODE\n",
      "..AND\n",
      "..CITYalias0.CITY_CODE = AIRPORT_SERVICEalias0.CITY_CODE\n",
      "..AND\n",
      "..CITYalias0.CITY_NAME = \"city_name1\"\n",
      "..AND\n",
      "..CITYalias1.CITY_NAME = \"city_name0\"\n",
      "..AND\n",
      "..DATE_DAYalias0.DAY_NUMBER = day_number0\n",
      "..AND\n",
      "..DATE_DAYalias0.MONTH_NUMBER = month_number0\n",
      "..AND\n",
      "..DATE_DAYalias0.YEAR = year0\n",
      "..AND\n",
      "..DAYSalias0.DAY_NAME = DATE_DAYalias0.DAY_NAME\n",
      "..AND\n",
      "..FLIGHTalias0.FLIGHT_DAYS = DAYSalias0.DAYS_CODE\n",
      "..AND\n",
      "..FLIGHTalias0.FROM_AIRPORT = AIRPORT_SERVICEalias0.AIRPORT_CODE\n",
      "..AND\n",
      "..FLIGHTalias0.TO_AIRPORT = AIRPORT_SERVICEalias1.AIRPORT_CODE\n"
     ]
    }
   ],
   "source": [
    "print_sql_as_tree(train_sql_simple_and[1][1])"
   ]
  },
  {
   "cell_type": "markdown",
   "id": "informal-benjamin",
   "metadata": {},
   "source": [
    "## Simple cases with AND and OR, 74 Cases in total"
   ]
  },
  {
   "cell_type": "markdown",
   "id": "varied-tolerance",
   "metadata": {},
   "source": [
    "### Before"
   ]
  },
  {
   "cell_type": "code",
   "execution_count": 11,
   "id": "widespread-bernard",
   "metadata": {},
   "outputs": [
    {
     "name": "stdout",
     "output_type": "stream",
     "text": [
      "SELECT DISTINCT\n",
      "..FLIGHTalias0.FLIGHT_ID\n",
      "FROM\n",
      "..AIRPORT_SERVICE AS AIRPORT_SERVICEalias0\n",
      "..AIRPORT_SERVICE AS AIRPORT_SERVICEalias1\n",
      "..CITY AS CITYalias0\n",
      "..CITY AS CITYalias1\n",
      "..DATE_DAY AS DATE_DAYalias0\n",
      "..DATE_DAY AS DATE_DAYalias1\n",
      "..DAYS AS DAYSalias0\n",
      "..DAYS AS DAYSalias1\n",
      "..FLIGHT AS FLIGHTalias0\n",
      "WHERE\n",
      "..(\n",
      "....(\n",
      "......(\n",
      "........(\n",
      "..........(\n",
      "............FLIGHTalias0.ARRIVAL_TIME < FLIGHTalias0.DEPARTURE_TIME\n",
      "..........)\n",
      "..........AND\n",
      "..........DATE_DAYalias0.DAY_NUMBER = day_number0\n",
      "..........AND\n",
      "..........DATE_DAYalias0.MONTH_NUMBER = month_number0\n",
      "..........AND\n",
      "..........DATE_DAYalias0.YEAR = year0\n",
      "..........AND\n",
      "..........DAYSalias0.DAY_NAME = DATE_DAYalias0.DAY_NAME\n",
      "..........AND\n",
      "..........FLIGHTalias0.FLIGHT_DAYS = DAYSalias0.DAYS_CODE\n",
      "........)\n",
      "........OR\n",
      "........FLIGHTalias0.FLIGHT_DAYS = DAYSalias1.DAYS_CODE\n",
      "........AND\n",
      "........DAYSalias1.DAY_NAME = DATE_DAYalias1.DAY_NAME\n",
      "........AND\n",
      "........DATE_DAYalias1.YEAR = year0\n",
      "........AND\n",
      "........DATE_DAYalias1.MONTH_NUMBER = month_number0\n",
      "........AND\n",
      "........DATE_DAYalias1.DAY_NUMBER = day_number1\n",
      "......)\n",
      "......AND\n",
      "......CITYalias1.CITY_CODE = AIRPORT_SERVICEalias1.CITY_CODE\n",
      "......AND\n",
      "......CITYalias1.CITY_NAME = \"city_name0\"\n",
      "......AND\n",
      "......FLIGHTalias0.TO_AIRPORT = AIRPORT_SERVICEalias1.AIRPORT_CODE\n",
      "....)\n",
      "....AND\n",
      "....CITYalias0.CITY_CODE = AIRPORT_SERVICEalias0.CITY_CODE\n",
      "....AND\n",
      "....CITYalias0.CITY_NAME = \"city_name1\"\n",
      "....AND\n",
      "....FLIGHTalias0.FROM_AIRPORT = AIRPORT_SERVICEalias0.AIRPORT_CODE\n",
      "..)\n",
      "..AND\n",
      "..FLIGHTalias0.STOPS = stops0\n"
     ]
    }
   ],
   "source": [
    "print_sql_as_tree(train_sql_simple_and_or[0][0])"
   ]
  },
  {
   "cell_type": "markdown",
   "id": "dried-softball",
   "metadata": {},
   "source": [
    "### After"
   ]
  },
  {
   "cell_type": "code",
   "execution_count": 12,
   "id": "junior-excellence",
   "metadata": {},
   "outputs": [
    {
     "name": "stdout",
     "output_type": "stream",
     "text": [
      "SELECT DISTINCT\n",
      "..FLIGHTalias0.FLIGHT_ID\n",
      "FROM\n",
      "..AIRPORT_SERVICE AS AIRPORT_SERVICEalias0\n",
      "..AIRPORT_SERVICE AS AIRPORT_SERVICEalias1\n",
      "..CITY AS CITYalias0\n",
      "..CITY AS CITYalias1\n",
      "..DATE_DAY AS DATE_DAYalias0\n",
      "..DATE_DAY AS DATE_DAYalias1\n",
      "..DAYS AS DAYSalias0\n",
      "..DAYS AS DAYSalias1\n",
      "..FLIGHT AS FLIGHTalias0\n",
      "WHERE\n",
      "..S1[0:OR]S2\n",
      "..AND\n",
      "..CITYalias0.CITY_CODE = AIRPORT_SERVICEalias0.CITY_CODE\n",
      "..AND\n",
      "..CITYalias0.CITY_NAME = \"city_name1\"\n",
      "..AND\n",
      "..CITYalias1.CITY_CODE = AIRPORT_SERVICEalias1.CITY_CODE\n",
      "..AND\n",
      "..CITYalias1.CITY_NAME = \"city_name0\"\n",
      "..AND\n",
      "..DATE_DAYalias1.DAY_NUMBER = day_number1\n",
      "..AND\n",
      "..DATE_DAYalias1.MONTH_NUMBER = month_number0\n",
      "..AND\n",
      "..DATE_DAYalias1.YEAR = year0\n",
      "..AND\n",
      "..DAYSalias1.DAY_NAME = DATE_DAYalias1.DAY_NAME\n",
      "..AND\n",
      "..FLIGHTalias0.FROM_AIRPORT = AIRPORT_SERVICEalias0.AIRPORT_CODE\n",
      "..AND\n",
      "..FLIGHTalias0.STOPS = stops0\n",
      "..AND\n",
      "..FLIGHTalias0.TO_AIRPORT = AIRPORT_SERVICEalias1.AIRPORT_CODE\n"
     ]
    }
   ],
   "source": [
    "print_sql_as_tree(train_sql_simple_and_or[0][1])"
   ]
  },
  {
   "cell_type": "markdown",
   "id": "concrete-constraint",
   "metadata": {},
   "source": [
    "### Left of OR"
   ]
  },
  {
   "cell_type": "code",
   "execution_count": 258,
   "id": "chinese-projector",
   "metadata": {},
   "outputs": [
    {
     "name": "stdout",
     "output_type": "stream",
     "text": [
      "FLIGHTalias0.ARRIVAL_TIME < FLIGHTalias0.DEPARTURE_TIME\n",
      "AND\n",
      "DATE_DAYalias0.DAY_NUMBER = day_number0\n",
      "AND\n",
      "DATE_DAYalias0.MONTH_NUMBER = month_number0\n",
      "AND\n",
      "DATE_DAYalias0.YEAR = year0\n",
      "AND\n",
      "DAYSalias0.DAY_NAME = DATE_DAYalias0.DAY_NAME\n",
      "AND\n",
      "FLIGHTalias0.FLIGHT_DAYS = DAYSalias0.DAYS_CODE\n"
     ]
    }
   ],
   "source": [
    "print_sql_as_tree(train_sql_simple_and_or[0][2]['or_states'][0]['or_left'])"
   ]
  },
  {
   "cell_type": "markdown",
   "id": "iraqi-ordinance",
   "metadata": {},
   "source": [
    "### Right of OR"
   ]
  },
  {
   "cell_type": "code",
   "execution_count": 237,
   "id": "corresponding-solid",
   "metadata": {},
   "outputs": [
    {
     "name": "stdout",
     "output_type": "stream",
     "text": [
      "FLIGHTalias0.FLIGHT_DAYS = DAYSalias1.DAYS_CODE\n"
     ]
    }
   ],
   "source": [
    "print_sql_as_tree(train_sql_simple_and_or[0][2]['or_states'][0]['or_right'])"
   ]
  },
  {
   "cell_type": "markdown",
   "id": "foreign-executive",
   "metadata": {},
   "source": [
    "## Complex cases, many nested brackets,  20 cases in total"
   ]
  },
  {
   "cell_type": "markdown",
   "id": "collaborative-replacement",
   "metadata": {},
   "source": [
    "### Before"
   ]
  },
  {
   "cell_type": "code",
   "execution_count": 273,
   "id": "acceptable-arthur",
   "metadata": {},
   "outputs": [
    {
     "name": "stdout",
     "output_type": "stream",
     "text": [
      "SELECT DISTINCT\n",
      "..FLIGHTalias0.FLIGHT_ID\n",
      "FROM\n",
      "..AIRPORT_SERVICE AS AIRPORT_SERVICEalias0\n",
      "..AIRPORT_SERVICE AS AIRPORT_SERVICEalias1\n",
      "..CITY AS CITYalias0\n",
      "..CITY AS CITYalias1\n",
      "..DATE_DAY AS DATE_DAYalias0\n",
      "..DAYS AS DAYSalias0\n",
      "..FLIGHT AS FLIGHTalias0\n",
      "WHERE\n",
      "..(\n",
      "....(\n",
      "......(\n",
      "........(\n",
      "..........(\n",
      "............(\n",
      "..............FLIGHTalias0.ARRIVAL_TIME < arrival_time0\n",
      "..............OR\n",
      "..............FLIGHTalias0.TIME_ELAPSED >= time_elapsed0\n",
      "............)\n",
      "............AND\n",
      "............FLIGHTalias0.DEPARTURE_TIME > FLIGHTalias0.ARRIVAL_TIME\n",
      "..........)\n",
      "..........AND\n",
      "..........DATE_DAYalias0.DAY_NUMBER = day_number0\n",
      "..........AND\n",
      "..........DATE_DAYalias0.MONTH_NUMBER = month_number0\n",
      "..........AND\n",
      "..........DATE_DAYalias0.YEAR = year0\n",
      "..........AND\n",
      "..........DAYSalias0.DAY_NAME = DATE_DAYalias0.DAY_NAME\n",
      "..........AND\n",
      "..........FLIGHTalias0.FLIGHT_DAYS = DAYSalias0.DAYS_CODE\n",
      "........)\n",
      "........OR\n",
      "........(\n",
      "..........DATE_DAYalias0.DAY_NUMBER = day_number0\n",
      "..........AND\n",
      "..........DATE_DAYalias0.MONTH_NUMBER = month_number0\n",
      "..........AND\n",
      "..........DATE_DAYalias0.YEAR = year0\n",
      "..........AND\n",
      "..........DAYSalias0.DAY_NAME = DATE_DAYalias0.DAY_NAME\n",
      "..........AND\n",
      "..........FLIGHTalias0.FLIGHT_DAYS = DAYSalias0.DAYS_CODE\n",
      "..........AND\n",
      "..........NOT\n",
      "..........(\n",
      "............(\n",
      "..............FLIGHTalias0.ARRIVAL_TIME < arrival_time0\n",
      "..............OR\n",
      "..............FLIGHTalias0.TIME_ELAPSED >= time_elapsed0\n",
      "............)\n",
      "............AND\n",
      "............FLIGHTalias0.DEPARTURE_TIME > FLIGHTalias0.ARRIVAL_TIME\n",
      "..........)\n",
      "........)\n",
      "......)\n",
      "......AND\n",
      "......(\n",
      "........FLIGHTalias0.ARRIVAL_TIME <= arrival_time1\n",
      "........AND\n",
      "........FLIGHTalias0.ARRIVAL_TIME >= arrival_time2\n",
      "......)\n",
      "....)\n",
      "....AND\n",
      "....CITYalias1.CITY_CODE = AIRPORT_SERVICEalias1.CITY_CODE\n",
      "....AND\n",
      "....CITYalias1.CITY_NAME = \"city_name0\"\n",
      "....AND\n",
      "....FLIGHTalias0.TO_AIRPORT = AIRPORT_SERVICEalias1.AIRPORT_CODE\n",
      "..)\n",
      "..AND\n",
      "..CITYalias0.CITY_CODE = AIRPORT_SERVICEalias0.CITY_CODE\n",
      "..AND\n",
      "..CITYalias0.CITY_NAME = \"city_name1\"\n",
      "..AND\n",
      "..FLIGHTalias0.FROM_AIRPORT = AIRPORT_SERVICEalias0.AIRPORT_CODE\n"
     ]
    }
   ],
   "source": [
    "print_sql_as_tree(train_sql_complex_and_or[0][0])"
   ]
  },
  {
   "cell_type": "markdown",
   "id": "bigger-power",
   "metadata": {},
   "source": [
    "### After"
   ]
  },
  {
   "cell_type": "code",
   "execution_count": 274,
   "id": "defensive-premium",
   "metadata": {},
   "outputs": [
    {
     "name": "stdout",
     "output_type": "stream",
     "text": [
      "SELECT DISTINCT\n",
      "..FLIGHTalias0.FLIGHT_ID\n",
      "FROM\n",
      "..AIRPORT_SERVICE AS AIRPORT_SERVICEalias0\n",
      "..AIRPORT_SERVICE AS AIRPORT_SERVICEalias1\n",
      "..CITY AS CITYalias0\n",
      "..CITY AS CITYalias1\n",
      "..DATE_DAY AS DATE_DAYalias0\n",
      "..DAYS AS DAYSalias0\n",
      "..FLIGHT AS FLIGHTalias0\n",
      "WHERE\n",
      "..S1 [2:OR] S2\n",
      "..AND\n",
      "..FLIGHTalias0.ARRIVAL_TIME <= arrival_time1\n",
      "..AND\n",
      "..FLIGHTalias0.ARRIVAL_TIME >= arrival_time2\n",
      "..AND\n",
      "..CITYalias1.CITY_CODE = AIRPORT_SERVICEalias1.CITY_CODE\n",
      "..AND\n",
      "..CITYalias1.CITY_NAME = \"city_name0\"\n",
      "..AND\n",
      "..FLIGHTalias0.TO_AIRPORT = AIRPORT_SERVICEalias1.AIRPORT_CODE\n",
      "..AND\n",
      "..CITYalias0.CITY_CODE = AIRPORT_SERVICEalias0.CITY_CODE\n",
      "..AND\n",
      "..CITYalias0.CITY_NAME = \"city_name1\"\n",
      "..AND\n",
      "..FLIGHTalias0.FROM_AIRPORT = AIRPORT_SERVICEalias0.AIRPORT_CODE\n"
     ]
    }
   ],
   "source": [
    "print_sql_as_tree(train_sql_complex_and_or[0][1])"
   ]
  },
  {
   "cell_type": "markdown",
   "id": "available-asset",
   "metadata": {},
   "source": [
    "### Left of First level OR"
   ]
  },
  {
   "cell_type": "code",
   "execution_count": 275,
   "id": "artistic-vinyl",
   "metadata": {},
   "outputs": [
    {
     "name": "stdout",
     "output_type": "stream",
     "text": [
      "S1 [0:OR] S2\n",
      "AND\n",
      "FLIGHTalias0.DEPARTURE_TIME > FLIGHTalias0.ARRIVAL_TIME\n",
      "AND\n",
      "DATE_DAYalias0.DAY_NUMBER = day_number0\n",
      "AND\n",
      "DATE_DAYalias0.MONTH_NUMBER = month_number0\n",
      "AND\n",
      "DATE_DAYalias0.YEAR = year0\n",
      "AND\n",
      "DAYSalias0.DAY_NAME = DATE_DAYalias0.DAY_NAME\n",
      "AND\n",
      "FLIGHTalias0.FLIGHT_DAYS = DAYSalias0.DAYS_CODE\n"
     ]
    }
   ],
   "source": [
    "cond_simple = train_sql_complex_and_or[0][2]\n",
    "print_sql_as_tree(cond_simple['or_states'][2]['or_left'])"
   ]
  },
  {
   "cell_type": "markdown",
   "id": "protecting-northwest",
   "metadata": {},
   "source": [
    "### Right of First level OR, Note the NOT structure here"
   ]
  },
  {
   "cell_type": "code",
   "execution_count": 276,
   "id": "affecting-korea",
   "metadata": {},
   "outputs": [
    {
     "name": "stdout",
     "output_type": "stream",
     "text": [
      "(\n",
      "..DATE_DAYalias0.DAY_NUMBER = day_number0\n",
      "..AND\n",
      "..DATE_DAYalias0.MONTH_NUMBER = month_number0\n",
      "..AND\n",
      "..DATE_DAYalias0.YEAR = year0\n",
      "..AND\n",
      "..DAYSalias0.DAY_NAME = DATE_DAYalias0.DAY_NAME\n",
      "..AND\n",
      "..FLIGHTalias0.FLIGHT_DAYS = DAYSalias0.DAYS_CODE\n",
      "..AND\n",
      "..NOT\n",
      "..(\n",
      "....(\n",
      "......S1 [1:OR] S2\n",
      "....)\n",
      "....AND\n",
      "....FLIGHTalias0.DEPARTURE_TIME > FLIGHTalias0.ARRIVAL_TIME\n",
      "..)\n",
      ")\n"
     ]
    }
   ],
   "source": [
    "cond_simple = train_sql_complex_and_or[0][2]\n",
    "print_sql_as_tree(cond_simple['or_states'][2]['or_right'])"
   ]
  },
  {
   "cell_type": "markdown",
   "id": "phantom-coaching",
   "metadata": {},
   "source": [
    "### Second level OR"
   ]
  },
  {
   "cell_type": "code",
   "execution_count": 262,
   "id": "reliable-projector",
   "metadata": {},
   "outputs": [
    {
     "name": "stdout",
     "output_type": "stream",
     "text": [
      "FLIGHTalias0.ARRIVAL_TIME < arrival_time0\n"
     ]
    }
   ],
   "source": [
    "cond_simple = train_sql_complex_and_or[0][2]\n",
    "print_sql_as_tree(cond_simple['or_states'][0]['or_left'])"
   ]
  },
  {
   "cell_type": "code",
   "execution_count": 263,
   "id": "brown-gravity",
   "metadata": {},
   "outputs": [
    {
     "name": "stdout",
     "output_type": "stream",
     "text": [
      "FLIGHTalias0.TIME_ELAPSED >= time_elapsed0\n"
     ]
    }
   ],
   "source": [
    "cond_simple = train_sql_complex_and_or[0][2]\n",
    "print_sql_as_tree(cond_simple['or_states'][0]['or_right'])"
   ]
  },
  {
   "cell_type": "code",
   "execution_count": 265,
   "id": "optional-start",
   "metadata": {},
   "outputs": [
    {
     "name": "stdout",
     "output_type": "stream",
     "text": [
      "FLIGHTalias0.ARRIVAL_TIME < arrival_time0\n"
     ]
    }
   ],
   "source": [
    "cond_simple = train_sql_complex_and_or[0][2]\n",
    "print_sql_as_tree(cond_simple['or_states'][1]['or_left'])"
   ]
  },
  {
   "cell_type": "code",
   "execution_count": 266,
   "id": "incoming-utility",
   "metadata": {},
   "outputs": [
    {
     "name": "stdout",
     "output_type": "stream",
     "text": [
      "FLIGHTalias0.TIME_ELAPSED >= time_elapsed0\n"
     ]
    }
   ],
   "source": [
    "cond_simple = train_sql_complex_and_or[0][2]\n",
    "print_sql_as_tree(cond_simple['or_states'][1]['or_right'])"
   ]
  },
  {
   "cell_type": "markdown",
   "id": "spectacular-telephone",
   "metadata": {},
   "source": [
    "## TODO: deal with NOT ( Cond ) structure"
   ]
  },
  {
   "cell_type": "markdown",
   "id": "confident-america",
   "metadata": {},
   "source": [
    "# Vocabulary"
   ]
  },
  {
   "cell_type": "code",
   "execution_count": 28,
   "id": "civil-glory",
   "metadata": {},
   "outputs": [
    {
     "name": "stdout",
     "output_type": "stream",
     "text": [
      "414 258 82397 8084\n"
     ]
    }
   ],
   "source": [
    "train_vocab = []\n",
    "for s in train_sql:\n",
    "    train_vocab.extend(s[:-2].split())\n",
    "train_vocab = Counter(train_vocab)\n",
    "\n",
    "test_vocab = []\n",
    "for s in test_sql:\n",
    "    test_vocab.extend(s[:-2].split())\n",
    "test_vocab = Counter(test_vocab)\n",
    "\n",
    "train_total_words = sum([c for s, c in train_vocab.most_common()])\n",
    "test_total_words = sum([c for s, c in test_vocab.most_common()])\n",
    "\n",
    "print(len(train_vocab), len(test_vocab), train_total_words, test_total_words)"
   ]
  },
  {
   "cell_type": "code",
   "execution_count": 30,
   "id": "regulated-conditions",
   "metadata": {},
   "outputs": [],
   "source": [
    "train_vocab_set = (train_vocab.keys())\n",
    "test_vocab_set = set(test_vocab.keys())\n",
    "# dev_vocab_set = set(dev_vocab.keys())"
   ]
  },
  {
   "cell_type": "code",
   "execution_count": 45,
   "id": "infectious-horse",
   "metadata": {},
   "outputs": [],
   "source": [
    "with open('../../data/text2sql/atis_train.vocab', 'w') as fd:\n",
    "    for w in train_vocab_set:\n",
    "        fd.write(w + '\\n')"
   ]
  },
  {
   "cell_type": "code",
   "execution_count": 49,
   "id": "faced-actress",
   "metadata": {},
   "outputs": [
    {
     "data": {
      "text/plain": [
       "{'AIRPORTalias2',\n",
       " 'AIRPORTalias2.AIRPORT_CODE',\n",
       " 'AIRPORTalias3',\n",
       " 'AIRPORTalias3.AIRPORT_CODE',\n",
       " 'year1'}"
      ]
     },
     "execution_count": 49,
     "metadata": {},
     "output_type": "execute_result"
    }
   ],
   "source": [
    "test_vocab_set - train_vocab_set"
   ]
  },
  {
   "cell_type": "code",
   "execution_count": 25,
   "id": "dramatic-chart",
   "metadata": {},
   "outputs": [],
   "source": [
    "train_vocab_cnt, train_vocab_str = [], []\n",
    "for s, c in train_vocab.most_common(80):\n",
    "    train_vocab_cnt.append(c)\n",
    "    train_vocab_str.append(s)\n",
    "train_vocab_cnt = np.array(train_vocab_cnt) / train_total_words\n",
    "    \n",
    "test_vocab_cnt, test_vocab_str = [], []\n",
    "for s, c in test_vocab.most_common(80):\n",
    "    test_vocab_cnt.append(c)\n",
    "    test_vocab_str.append(s)\n",
    "test_vocab_cnt = np.array(test_vocab_cnt) / test_total_words\n",
    "\n",
    "data = {'freq': np.concatenate([train_vocab_cnt, test_vocab_cnt]), \n",
    "        'label': pd.Categorical(train_vocab_str + test_vocab_str), \n",
    "        'split': pd.Categorical(['train'] * len(train_vocab_cnt) + ['test'] * len(test_vocab_cnt))}\n",
    "data = pd.DataFrame(data)"
   ]
  },
  {
   "cell_type": "code",
   "execution_count": 39,
   "id": "super-public",
   "metadata": {},
   "outputs": [
    {
     "data": {
      "image/png": "[encoded data removed]",
      "text/plain": [
       "<Figure size 2400x2000 with 1 Axes>"
      ]
     },
     "metadata": {
      "needs_background": "light"
     },
     "output_type": "display_data"
    }
   ],
   "source": [
    "g = sns.catplot(data=data, kind='bar', y='label', x='freq', hue='split', orient='h')\n",
    "g.set_yticklabels(size = 7)\n",
    "g.fig.set_size_inches([12, 10])\n",
    "g.fig.set_dpi(200)"
   ]
  },
  {
   "cell_type": "code",
   "execution_count": 40,
   "id": "processed-property",
   "metadata": {},
   "outputs": [],
   "source": [
    "train_words = set(train_vocab.keys())\n",
    "test_words = set(test_vocab.keys())"
   ]
  },
  {
   "cell_type": "code",
   "execution_count": 41,
   "id": "portuguese-helping",
   "metadata": {},
   "outputs": [
    {
     "name": "stdout",
     "output_type": "stream",
     "text": [
      "AIRPORTalias2 1 0.00012376237623762376\n",
      "AIRPORTalias2.AIRPORT_CODE 2 0.00024752475247524753\n",
      "AIRPORTalias3 1 0.00012376237623762376\n",
      "AIRPORTalias3.AIRPORT_CODE 2 0.00024752475247524753\n",
      "year1 1 0.00012376237623762376\n"
     ]
    }
   ],
   "source": [
    "for w in test_words - train_words:\n",
    "    print(w, test_vocab[w], test_vocab[w] / test_total_words)"
   ]
  },
  {
   "cell_type": "markdown",
   "id": "brilliant-salon",
   "metadata": {},
   "source": [
    "**Conclusion: although there are words in test not seen in training, the difference can be ignored**"
   ]
  }
 ],
 "metadata": {
  "kernelspec": {
   "display_name": "Python 3",
   "language": "python",
   "name": "python3"
  },
  "language_info": {
   "codemirror_mode": {
    "name": "ipython",
    "version": 3
   },
   "file_extension": ".py",
   "mimetype": "text/x-python",
   "name": "python",
   "nbconvert_exporter": "python",
   "pygments_lexer": "ipython3",
   "version": "3.6.12"
  },
  "toc": {
   "base_numbering": 1,
   "nav_menu": {},
   "number_sections": true,
   "sideBar": true,
   "skip_h1_title": false,
   "title_cell": "Table of Contents",
   "title_sidebar": "Contents",
   "toc_cell": false,
   "toc_position": {
    "height": "calc(100% - 180px)",
    "left": "10px",
    "top": "150px",
    "width": "384px"
   },
   "toc_section_display": true,
   "toc_window_display": true
  },
  "toc-autonumbering": true,
  "toc-showcode": false,
  "toc-showmarkdowntxt": false,
  "toc-showtags": false
 },
 "nbformat": 4,
 "nbformat_minor": 5
}
